{
 "cells": [
  {
   "cell_type": "markdown",
   "metadata": {},
   "source": [
    "# Workshop 10: SVMs and Hyperparameter Tuning\n",
    "\n",
    "In this lab, you'll be working with Support Vector Machines."
   ]
  },
  {
   "cell_type": "markdown",
   "metadata": {},
   "source": [
    "## 0) Imports"
   ]
  },
  {
   "cell_type": "code",
   "execution_count": 1,
   "metadata": {},
   "outputs": [],
   "source": [
    "import numpy as np\n",
    "import matplotlib.pyplot as plt\n",
    "import pandas as pd\n",
    "random_state = 42"
   ]
  },
  {
   "cell_type": "code",
   "execution_count": 2,
   "metadata": {},
   "outputs": [],
   "source": [
    "from sklearn.model_selection import train_test_split"
   ]
  },
  {
   "cell_type": "markdown",
   "metadata": {},
   "source": [
    "## 1) Loading the Data\n",
    "\n",
    "First, load the data `svm_data_2020.csv`."
   ]
  },
  {
   "cell_type": "code",
   "execution_count": 2,
   "metadata": {},
   "outputs": [],
   "source": [
    "df = pd.read_csv('./data/svm_data_2020.csv')"
   ]
  },
  {
   "cell_type": "code",
   "execution_count": 3,
   "metadata": {},
   "outputs": [
    {
     "data": {
      "text/plain": [
       "0    83\n",
       "1    73\n",
       "Name: Class, dtype: int64"
      ]
     },
     "execution_count": 3,
     "metadata": {},
     "output_type": "execute_result"
    }
   ],
   "source": [
    "df[\"Class\"].value_counts()"
   ]
  },
  {
   "cell_type": "code",
   "execution_count": 4,
   "metadata": {},
   "outputs": [
    {
     "data": {
      "text/html": [
       "<div>\n",
       "<style scoped>\n",
       "    .dataframe tbody tr th:only-of-type {\n",
       "        vertical-align: middle;\n",
       "    }\n",
       "\n",
       "    .dataframe tbody tr th {\n",
       "        vertical-align: top;\n",
       "    }\n",
       "\n",
       "    .dataframe thead th {\n",
       "        text-align: right;\n",
       "    }\n",
       "</style>\n",
       "<table border=\"1\" class=\"dataframe\">\n",
       "  <thead>\n",
       "    <tr style=\"text-align: right;\">\n",
       "      <th></th>\n",
       "      <th>Attr1</th>\n",
       "      <th>Attr2</th>\n",
       "      <th>Attr3</th>\n",
       "      <th>Attr4</th>\n",
       "      <th>Attr5</th>\n",
       "      <th>Attr6</th>\n",
       "      <th>Attr7</th>\n",
       "      <th>Attr8</th>\n",
       "      <th>Attr9</th>\n",
       "      <th>Attr10</th>\n",
       "      <th>...</th>\n",
       "      <th>Attr52</th>\n",
       "      <th>Attr53</th>\n",
       "      <th>Attr54</th>\n",
       "      <th>Attr55</th>\n",
       "      <th>Attr56</th>\n",
       "      <th>Attr57</th>\n",
       "      <th>Attr58</th>\n",
       "      <th>Attr59</th>\n",
       "      <th>Attr60</th>\n",
       "      <th>Class</th>\n",
       "    </tr>\n",
       "  </thead>\n",
       "  <tbody>\n",
       "    <tr>\n",
       "      <th>0</th>\n",
       "      <td>0.021</td>\n",
       "      <td>0.028</td>\n",
       "      <td>0.012</td>\n",
       "      <td>0.044</td>\n",
       "      <td>0.043</td>\n",
       "      <td>0.077</td>\n",
       "      <td>0.584</td>\n",
       "      <td>0.143</td>\n",
       "      <td>0.189</td>\n",
       "      <td>0.185</td>\n",
       "      <td>...</td>\n",
       "      <td>0.010</td>\n",
       "      <td>0.001</td>\n",
       "      <td>0.005</td>\n",
       "      <td>0.004</td>\n",
       "      <td>0.003</td>\n",
       "      <td>0.008</td>\n",
       "      <td>0.005</td>\n",
       "      <td>0.002</td>\n",
       "      <td>0.001</td>\n",
       "      <td>0</td>\n",
       "    </tr>\n",
       "    <tr>\n",
       "      <th>1</th>\n",
       "      <td>0.053</td>\n",
       "      <td>0.056</td>\n",
       "      <td>0.122</td>\n",
       "      <td>0.121</td>\n",
       "      <td>0.025</td>\n",
       "      <td>0.102</td>\n",
       "      <td>0.216</td>\n",
       "      <td>0.044</td>\n",
       "      <td>0.229</td>\n",
       "      <td>0.163</td>\n",
       "      <td>...</td>\n",
       "      <td>0.034</td>\n",
       "      <td>0.015</td>\n",
       "      <td>0.034</td>\n",
       "      <td>0.038</td>\n",
       "      <td>0.017</td>\n",
       "      <td>0.013</td>\n",
       "      <td>0.010</td>\n",
       "      <td>0.036</td>\n",
       "      <td>0.021</td>\n",
       "      <td>0</td>\n",
       "    </tr>\n",
       "    <tr>\n",
       "      <th>2</th>\n",
       "      <td>0.049</td>\n",
       "      <td>0.028</td>\n",
       "      <td>0.059</td>\n",
       "      <td>0.127</td>\n",
       "      <td>0.177</td>\n",
       "      <td>0.191</td>\n",
       "      <td>0.888</td>\n",
       "      <td>0.077</td>\n",
       "      <td>0.125</td>\n",
       "      <td>0.203</td>\n",
       "      <td>...</td>\n",
       "      <td>0.008</td>\n",
       "      <td>0.013</td>\n",
       "      <td>0.016</td>\n",
       "      <td>0.006</td>\n",
       "      <td>0.012</td>\n",
       "      <td>0.019</td>\n",
       "      <td>0.014</td>\n",
       "      <td>0.033</td>\n",
       "      <td>0.044</td>\n",
       "      <td>0</td>\n",
       "    </tr>\n",
       "    <tr>\n",
       "      <th>3</th>\n",
       "      <td>0.019</td>\n",
       "      <td>0.061</td>\n",
       "      <td>0.038</td>\n",
       "      <td>0.077</td>\n",
       "      <td>0.139</td>\n",
       "      <td>0.081</td>\n",
       "      <td>0.228</td>\n",
       "      <td>0.022</td>\n",
       "      <td>0.104</td>\n",
       "      <td>0.119</td>\n",
       "      <td>...</td>\n",
       "      <td>0.033</td>\n",
       "      <td>0.013</td>\n",
       "      <td>0.012</td>\n",
       "      <td>0.011</td>\n",
       "      <td>0.002</td>\n",
       "      <td>0.004</td>\n",
       "      <td>0.004</td>\n",
       "      <td>0.011</td>\n",
       "      <td>0.008</td>\n",
       "      <td>1</td>\n",
       "    </tr>\n",
       "    <tr>\n",
       "      <th>4</th>\n",
       "      <td>0.035</td>\n",
       "      <td>0.051</td>\n",
       "      <td>0.008</td>\n",
       "      <td>0.024</td>\n",
       "      <td>0.043</td>\n",
       "      <td>0.074</td>\n",
       "      <td>0.376</td>\n",
       "      <td>0.113</td>\n",
       "      <td>0.123</td>\n",
       "      <td>0.151</td>\n",
       "      <td>...</td>\n",
       "      <td>0.004</td>\n",
       "      <td>0.012</td>\n",
       "      <td>0.011</td>\n",
       "      <td>0.011</td>\n",
       "      <td>0.010</td>\n",
       "      <td>0.005</td>\n",
       "      <td>0.002</td>\n",
       "      <td>0.008</td>\n",
       "      <td>0.003</td>\n",
       "      <td>0</td>\n",
       "    </tr>\n",
       "  </tbody>\n",
       "</table>\n",
       "<p>5 rows × 61 columns</p>\n",
       "</div>"
      ],
      "text/plain": [
       "   Attr1  Attr2  Attr3  Attr4  Attr5  Attr6  Attr7  Attr8  Attr9  Attr10  ...  \\\n",
       "0  0.021  0.028  0.012  0.044  0.043  0.077  0.584  0.143  0.189   0.185  ...   \n",
       "1  0.053  0.056  0.122  0.121  0.025  0.102  0.216  0.044  0.229   0.163  ...   \n",
       "2  0.049  0.028  0.059  0.127  0.177  0.191  0.888  0.077  0.125   0.203  ...   \n",
       "3  0.019  0.061  0.038  0.077  0.139  0.081  0.228  0.022  0.104   0.119  ...   \n",
       "4  0.035  0.051  0.008  0.024  0.043  0.074  0.376  0.113  0.123   0.151  ...   \n",
       "\n",
       "   Attr52  Attr53  Attr54  Attr55  Attr56  Attr57  Attr58  Attr59  Attr60  \\\n",
       "0   0.010   0.001   0.005   0.004   0.003   0.008   0.005   0.002   0.001   \n",
       "1   0.034   0.015   0.034   0.038   0.017   0.013   0.010   0.036   0.021   \n",
       "2   0.008   0.013   0.016   0.006   0.012   0.019   0.014   0.033   0.044   \n",
       "3   0.033   0.013   0.012   0.011   0.002   0.004   0.004   0.011   0.008   \n",
       "4   0.004   0.012   0.011   0.011   0.010   0.005   0.002   0.008   0.003   \n",
       "\n",
       "   Class  \n",
       "0      0  \n",
       "1      0  \n",
       "2      0  \n",
       "3      1  \n",
       "4      0  \n",
       "\n",
       "[5 rows x 61 columns]"
      ]
     },
     "execution_count": 4,
     "metadata": {},
     "output_type": "execute_result"
    }
   ],
   "source": [
    "df.head()"
   ]
  },
  {
   "cell_type": "code",
   "execution_count": 5,
   "metadata": {},
   "outputs": [],
   "source": [
    "df_features = df.iloc[:,0:-1]\n",
    "df_labels =df[\"Class\"]"
   ]
  },
  {
   "cell_type": "markdown",
   "metadata": {},
   "source": [
    "## 2) Splitting the Data (Group)\n",
    "\n",
    "Now, split the data into a training and test set. 75% of the data should be in the training set, and 25% should be in the testing set.\n",
    "\n",
    "Report the number of positive and negative samples in both training and testing data."
   ]
  },
  {
   "cell_type": "code",
   "execution_count": 6,
   "metadata": {},
   "outputs": [],
   "source": [
    "# Split data\n",
    "from sklearn.model_selection import train_test_split\n",
    "test_data_fraction = 0.25\n",
    "\n",
    "X_train, X_test, Y_train, Y_test = train_test_split(df_features, df_labels, test_size=test_data_fraction)"
   ]
  },
  {
   "cell_type": "code",
   "execution_count": null,
   "metadata": {},
   "outputs": [],
   "source": [
    "# Report positive and negative samples"
   ]
  },
  {
   "cell_type": "markdown",
   "metadata": {},
   "source": [
    "## 3) Training the Model\n",
    "\n",
    "Now, you will use sklearns [support vector classifier](https://scikit-learn.org/stable/modules/generated/sklearn.svm.SVC.html) to fit a model to this data."
   ]
  },
  {
   "cell_type": "code",
   "execution_count": 7,
   "metadata": {},
   "outputs": [],
   "source": [
    "from sklearn.svm import SVC\n",
    "from sklearn.model_selection import GridSearchCV\n",
    "from sklearn.metrics import classification_report"
   ]
  },
  {
   "cell_type": "markdown",
   "metadata": {},
   "source": [
    "### 3.1 Fitting the Model and Getting the Support Vectors (Group)\n",
    "\n",
    "Fit the SVC to your split data (using the default hyperparams), and report back the number of support vectors. Use `clf.support_vectors_`, which returns a list of the actual support vectors."
   ]
  },
  {
   "cell_type": "code",
   "execution_count": 8,
   "metadata": {
    "scrolled": true
   },
   "outputs": [
    {
     "name": "stdout",
     "output_type": "stream",
     "text": [
      "60\n",
      "60\n",
      "[[0.013 0.017 0.018 ... 0.002 0.003 0.004]\n",
      " [0.023 0.039 0.042 ... 0.01  0.008 0.001]\n",
      " [0.027 0.016 0.034 ... 0.009 0.01  0.009]\n",
      " ...\n",
      " [0.011 0.009 0.006 ... 0.002 0.003 0.003]\n",
      " [0.033 0.022 0.027 ... 0.013 0.005 0.004]\n",
      " [0.041 0.065 0.04  ... 0.01  0.007 0.006]]\n"
     ]
    },
    {
     "data": {
      "text/plain": [
       "array([30, 30])"
      ]
     },
     "execution_count": 8,
     "metadata": {},
     "output_type": "execute_result"
    }
   ],
   "source": [
    "# Create model and get the number of support vectors\n",
    "clf = SVC(C=100)\n",
    "clf.fit(X_train, Y_train)\n",
    "print(len(clf.support_vectors_))\n",
    "print(len(clf.support_vectors_[0]))\n",
    "print(clf.support_vectors_)\n",
    "clf.n_support_\n"
   ]
  },
  {
   "cell_type": "code",
   "execution_count": null,
   "metadata": {},
   "outputs": [],
   "source": []
  },
  {
   "cell_type": "code",
   "execution_count": 9,
   "metadata": {},
   "outputs": [
    {
     "data": {
      "text/plain": [
       "60"
      ]
     },
     "execution_count": 9,
     "metadata": {},
     "output_type": "execute_result"
    }
   ],
   "source": [
    "len(clf.support_vectors_)"
   ]
  },
  {
   "cell_type": "markdown",
   "metadata": {},
   "source": [
    "### 3.2 C hyperparameter vs Support Vector Count (Group)"
   ]
  },
  {
   "cell_type": "markdown",
   "metadata": {},
   "source": [
    "*C* is the regularization hyperparameter in SVMs, and in this problem you'll be looking at how changing *C* affects the number of support vectors.\n",
    "\n",
    "Implement the function `plot_support_vectors` below, which will plot a line chart of the number of support vectors vs. the value of *C*.\n",
    "\n",
    "**Before implementing the function, predict the answer the following questions**\n",
    "1. As C increases, how will the number of support vectors change?\n",
    "2. Why?"
   ]
  },
  {
   "cell_type": "code",
   "execution_count": 10,
   "metadata": {},
   "outputs": [],
   "source": [
    "\"\"\"\n",
    "Input:\n",
    "    params: A list of floats, representing the value of C's to try\n",
    "    \n",
    "Output:\n",
    "    None\n",
    "    Print a line chart of the number of support vectors vs. C\n",
    "    \n",
    "Function:\n",
    "    iterate through params\n",
    "        create an SVC classifier for each c\n",
    "        find the length of the support vectors and append to a list\n",
    "    \n",
    "    create a plot with c on the X axis and length of support vectors on Y\n",
    "\"\"\"\n",
    "\n",
    "def plot_support_vectors(params):\n",
    "    svs = []\n",
    "    \n",
    "    # SOLUTION\n",
    "    for c in params:\n",
    "        clf=SVC(C=c)\n",
    "        clf.fit(X_train,Y_train)\n",
    "        svs.append(len(clf.support_vectors_))\n",
    "    \n",
    "    plt.plot(params,svs,'bo--')\n",
    "    plt.xlabel('C')\n",
    "    plt.ylabel('Number of Support Vectors')\n",
    "    plt.title('C and Its Effect on Number of Support Vectors')\n",
    "    plt.show()\n"
   ]
  },
  {
   "cell_type": "code",
   "execution_count": 11,
   "metadata": {},
   "outputs": [
    {
     "data": {
      "image/png": "[encoded data removed]",
      "text/plain": [
       "<Figure size 432x288 with 1 Axes>"
      ]
     },
     "metadata": {
      "needs_background": "light"
     },
     "output_type": "display_data"
    }
   ],
   "source": [
    "C = [0.1,0.2,0.3,0.5,1,2,3,5,10]\n",
    "plot_support_vectors(C)"
   ]
  },
  {
   "cell_type": "markdown",
   "metadata": {},
   "source": [
    "**Now that you have a plot, go back to the questions and explain more using the context of the data. If you were wrong, explain your misconception.**"
   ]
  },
  {
   "cell_type": "markdown",
   "metadata": {},
   "source": [
    "## 4) Hyperparam Tuning\n",
    "\n",
    "Compare  the  performance  of  four  different  kernel  functions:  linear (`linear`), polynomial (`poly`),  radial basis function (`rbf`), and `sigmoid`. Not only will you be changing the kernel function, you'll also be optimizing for the different hyperparams.\n",
    "\n",
    "For each type of kernel functions, train your SVM classifiers using the training data and evaluate the resulting SVM classifer using testing data using accuracy, precision, recall and f-measure of the corresponding classification results."
   ]
  },
  {
   "cell_type": "markdown",
   "metadata": {},
   "source": [
    "### 4.1 Basic Hyperparameters (Group)\n",
    "\n",
    "Write a function called `best_hyperparams` that when given a dictionary of params, runs a `GridSearchCV` on an SVC model using the training and test data.\n",
    "\n",
    "Use a `cv` of 5.\n",
    "\n",
    "This function will return the optimized classifier `clf`, and the set of best params (using `clf.best_params_`).\n",
    "\n",
    "See the documentation for [GridSearchCV](https://scikit-learn.org/stable/modules/generated/sklearn.model_selection.GridSearchCV.html) for more info."
   ]
  },
  {
   "cell_type": "code",
   "execution_count": 12,
   "metadata": {},
   "outputs": [],
   "source": [
    "\"\"\"\n",
    "Input:\n",
    "    params_set: A dictionary of params to use for the grid search\n",
    "Output:\n",
    "    The classifier with the best hyperparams\n",
    "    The dict of best params itself\n",
    "    \n",
    "Function:\n",
    "    use gridsearch to find the best SVC classifier\n",
    "    return the best parameters\n",
    "\"\"\"\n",
    "\n",
    "def best_hyperparams(param_set):\n",
    "    # SOLUTION\n",
    "    \n",
    "    clf = GridSearchCV(SVC(), param_set, cv=5)\n",
    "    clf.fit(X_train,Y_train)\n",
    "    return clf.best_params_, clf\n",
    "    # END SOLUTION\n"
   ]
  },
  {
   "cell_type": "code",
   "execution_count": 18,
   "metadata": {},
   "outputs": [],
   "source": [
    "# Here are the value ranges for each of the params.\n",
    "# We will tell you which of these to tune for which kernel.\n",
    "\n",
    "# C is the regularization paramater we've discussed before\n",
    "C = [0.1,0.2,0.3,0.5,1,2,3,5,10]\n",
    "\n",
    "# degree is the degree of the polynomial used for the polynomial kernel\n",
    "degree = [1,2,3,4,5]\n",
    "\n",
    "# coef is the independent term in the kernel function, and is ony used by poly and sigmoid\n",
    "coef0 = [0.0001,0.001,0.002,0.01,0.02,0.1,0.2,0.3,1,2,5,10]\n",
    "\n",
    "# gamma is the kernel coefficent used for rbf, poly, and sigmoid\n",
    "gamma = [0.0001,0.001,0.002,0.01,0.02,0.1,0.2,0.3,1,2,3]"
   ]
  },
  {
   "cell_type": "code",
   "execution_count": 13,
   "metadata": {},
   "outputs": [],
   "source": [
    "from sklearn.metrics import classification_report"
   ]
  },
  {
   "cell_type": "markdown",
   "metadata": {},
   "source": [
    "### Linear Kernel (Follow)\n",
    "For the **linear** kernel, tune `C`."
   ]
  },
  {
   "cell_type": "code",
   "execution_count": 14,
   "metadata": {},
   "outputs": [
    {
     "name": "stdout",
     "output_type": "stream",
     "text": [
      "{'C': 10, 'kernel': 'linear'}\n",
      "              precision    recall  f1-score   support\n",
      "\n",
      "           0       0.60      0.67      0.63        18\n",
      "           1       0.68      0.62      0.65        21\n",
      "\n",
      "    accuracy                           0.64        39\n",
      "   macro avg       0.64      0.64      0.64        39\n",
      "weighted avg       0.65      0.64      0.64        39\n",
      "\n"
     ]
    }
   ],
   "source": [
    "params = [{\n",
    "    \"kernel\":[\"linear\"],\n",
    "    \"C\":C\n",
    "}]\n",
    "\n",
    "params, model = best_hyperparams(params)\n",
    "print(params)\n",
    "predictions = model.predict(X_test)\n",
    "print(classification_report(predictions,Y_test))"
   ]
  },
  {
   "cell_type": "markdown",
   "metadata": {},
   "source": [
    "### Poly Kernel (Group)\n",
    "For the **polynomial** kernel, tune `C`, `degree` and `coef0`."
   ]
  },
  {
   "cell_type": "code",
   "execution_count": 19,
   "metadata": {},
   "outputs": [
    {
     "name": "stdout",
     "output_type": "stream",
     "text": [
      "{'C': 10, 'coef0': 0.3, 'degree': 2, 'kernel': 'poly'}\n",
      "              precision    recall  f1-score   support\n",
      "\n",
      "           0       0.85      0.74      0.79        23\n",
      "           1       0.68      0.81      0.74        16\n",
      "\n",
      "    accuracy                           0.77        39\n",
      "   macro avg       0.77      0.78      0.77        39\n",
      "weighted avg       0.78      0.77      0.77        39\n",
      "\n"
     ]
    }
   ],
   "source": [
    "params = [{\n",
    "    \"kernel\":[\"poly\"],\n",
    "    \"C\":C,\n",
    "    \"degree\":degree,\n",
    "    \"coef0\":coef0\n",
    "}]\n",
    "\n",
    "params, model = best_hyperparams(params)\n",
    "print(params)\n",
    "predictions = model.predict(X_test)\n",
    "print(classification_report(predictions,Y_test))"
   ]
  },
  {
   "cell_type": "markdown",
   "metadata": {},
   "source": [
    "### RBF Kernel (Group)\n",
    "For the **rbf** kernel, tune `C` and `gamma`."
   ]
  },
  {
   "cell_type": "code",
   "execution_count": 20,
   "metadata": {},
   "outputs": [
    {
     "name": "stdout",
     "output_type": "stream",
     "text": [
      "{'C': 10, 'gamma': 0.1, 'kernel': 'rbf'}\n",
      "              precision    recall  f1-score   support\n",
      "\n",
      "           0       0.75      0.75      0.75        20\n",
      "           1       0.74      0.74      0.74        19\n",
      "\n",
      "    accuracy                           0.74        39\n",
      "   macro avg       0.74      0.74      0.74        39\n",
      "weighted avg       0.74      0.74      0.74        39\n",
      "\n"
     ]
    }
   ],
   "source": [
    "params = [{\n",
    "    \"kernel\":[\"rbf\"],\n",
    "    \"C\":C,\n",
    "    \"gamma\":gamma\n",
    "}]\n",
    "\n",
    "params, model = best_hyperparams(params)\n",
    "print(params)\n",
    "predictions = model.predict(X_test)\n",
    "print(classification_report(predictions,Y_test))"
   ]
  },
  {
   "cell_type": "markdown",
   "metadata": {},
   "source": [
    "### Sigmoid Kernel (Group)\n",
    "\n",
    "For the **sigmoid** kernel, tune `C`, `coef0`, and `gamma`."
   ]
  },
  {
   "cell_type": "code",
   "execution_count": 21,
   "metadata": {},
   "outputs": [
    {
     "name": "stdout",
     "output_type": "stream",
     "text": [
      "{'C': 10, 'coef0': 0.0001, 'gamma': 0.1, 'kernel': 'sigmoid'}\n",
      "              precision    recall  f1-score   support\n",
      "\n",
      "           0       0.50      0.56      0.53        18\n",
      "           1       0.58      0.52      0.55        21\n",
      "\n",
      "    accuracy                           0.54        39\n",
      "   macro avg       0.54      0.54      0.54        39\n",
      "weighted avg       0.54      0.54      0.54        39\n",
      "\n"
     ]
    }
   ],
   "source": [
    "params = [{\n",
    "    \"kernel\":[\"sigmoid\"],\n",
    "    \"C\":C,\n",
    "    \"gamma\":gamma,\n",
    "    \"coef0\":coef0\n",
    "}]\n",
    "\n",
    "params, model = best_hyperparams(params)\n",
    "print(params)\n",
    "predictions = model.predict(X_test)\n",
    "print(classification_report(predictions,Y_test))"
   ]
  },
  {
   "cell_type": "markdown",
   "metadata": {},
   "source": [
    "### Results\n",
    "\n",
    "Consider the following visualizaion of how SVM predicts with different kernels on different datasets:\n",
    "\n",
    "![Different Kernels](https://i.imgur.com/HKTLn35.png)"
   ]
  },
  {
   "cell_type": "markdown",
   "metadata": {},
   "source": [
    "Given your results, answer the following questions:\n",
    "\n",
    "1. Which kernel performed best?\n",
    "2. What criteria are you using to define the best model?\n",
    "3. Based on the best-performing model(s), what properties do you think the data have (e.g. is is close to linearly separable)?"
   ]
  },
  {
   "cell_type": "markdown",
   "metadata": {},
   "source": [
    "**Answer here**\n",
    "1. \n",
    "2. \n",
    "3. "
   ]
  }
 ],
 "metadata": {
  "kernelspec": {
   "display_name": "Python 3",
   "language": "python",
   "name": "python3"
  },
  "language_info": {
   "codemirror_mode": {
    "name": "ipython",
    "version": 3
   },
   "file_extension": ".py",
   "mimetype": "text/x-python",
   "name": "python",
   "nbconvert_exporter": "python",
   "pygments_lexer": "ipython3",
   "version": "3.8.8"
  }
 },
 "nbformat": 4,
 "nbformat_minor": 4
}
